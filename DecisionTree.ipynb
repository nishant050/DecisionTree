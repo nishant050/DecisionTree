{
 "cells": [
  {
   "cell_type": "code",
   "execution_count": 1,
   "id": "d4d58135-2a77-4c69-a310-49383478cf61",
   "metadata": {
    "tags": []
   },
   "outputs": [],
   "source": [
    "import matplotlib.pyplot as plt\n",
    "import pandas as pd\n",
    "import numpy as np\n",
    "\n",
    "from sklearn.tree import DecisionTreeClassifier\n",
    "from sklearn.model_selection import train_test_split"
   ]
  },
  {
   "cell_type": "code",
   "execution_count": 21,
   "id": "4df2f141-b963-466e-9d9c-5d0826212f41",
   "metadata": {
    "tags": []
   },
   "outputs": [
    {
     "name": "stdout",
     "output_type": "stream",
     "text": [
      "             name  landmass  zone  area  population  language  religion  bars  \\\n",
      "0     Afghanistan         5     1   648          16        10         2     0   \n",
      "1         Albania         3     1    29           3         6         6     0   \n",
      "2         Algeria         4     1  2388          20         8         2     2   \n",
      "3  American-Samoa         6     3     0           0         1         1     0   \n",
      "4         Andorra         3     1     0           0         6         0     3   \n",
      "\n",
      "   stripes  colours  ...  saltires  quarters  sunstars  crescent  triangle  \\\n",
      "0        3        5  ...         0         0         1         0         0   \n",
      "1        0        3  ...         0         0         1         0         0   \n",
      "2        0        3  ...         0         0         1         1         0   \n",
      "3        0        5  ...         0         0         0         0         1   \n",
      "4        0        3  ...         0         0         0         0         0   \n",
      "\n",
      "   icon  animate text  topleft  botright  \n",
      "0     1        0    0    black     green  \n",
      "1     0        1    0      red       red  \n",
      "2     0        0    0    green     white  \n",
      "3     1        1    0     blue       red  \n",
      "4     0        0    0     blue       red  \n",
      "\n",
      "[5 rows x 30 columns]\n"
     ]
    }
   ],
   "source": [
    "data = pd.read_csv('flag.data' , header = None)\n",
    "\n",
    "\n",
    "data.columns = ['name', 'landmass', 'zone', 'area', 'population', 'language', 'religion', 'bars', 'stripes', 'colours', 'red', 'green', 'blue', 'gold', 'white', 'black', 'orange', 'mainhue', 'circles', 'crosses', 'saltires', 'quarters', 'sunstars', 'crescent', 'triangle', 'icon', 'animate', 'text', 'topleft', 'botright']\n",
    "\n",
    "print(data.head())"
   ]
  },
  {
   "cell_type": "code",
   "execution_count": 58,
   "id": "918f0e85-06af-43e5-a53d-65d1955befc9",
   "metadata": {
    "tags": []
   },
   "outputs": [
    {
     "name": "stdout",
     "output_type": "stream",
     "text": [
      "['black' 'red' 'green' 'blue' 'white' 'orange' 'gold']\n",
      "<class 'pandas.core.frame.DataFrame'>\n",
      "Index: 145 entries, 107 to 37\n",
      "Data columns (total 28 columns):\n",
      " #   Column        Non-Null Count  Dtype\n",
      "---  ------        --------------  -----\n",
      " 0   landmass      145 non-null    int64\n",
      " 1   zone          145 non-null    int64\n",
      " 2   area          145 non-null    int64\n",
      " 3   population    145 non-null    int64\n",
      " 4   language      145 non-null    int64\n",
      " 5   bars          145 non-null    int64\n",
      " 6   stripes       145 non-null    int64\n",
      " 7   colours       145 non-null    int64\n",
      " 8   red           145 non-null    int64\n",
      " 9   green         145 non-null    int64\n",
      " 10  blue          145 non-null    int64\n",
      " 11  gold          145 non-null    int64\n",
      " 12  white         145 non-null    int64\n",
      " 13  black         145 non-null    int64\n",
      " 14  orange        145 non-null    int64\n",
      " 15  circles       145 non-null    int64\n",
      " 16  crosses       145 non-null    int64\n",
      " 17  saltires      145 non-null    int64\n",
      " 18  quarters      145 non-null    int64\n",
      " 19  sunstars      145 non-null    int64\n",
      " 20  crescent      145 non-null    int64\n",
      " 21  triangle      145 non-null    int64\n",
      " 22  icon          145 non-null    int64\n",
      " 23  animate       145 non-null    int64\n",
      " 24  text          145 non-null    int64\n",
      " 25  topleft_int   145 non-null    int8 \n",
      " 26  botright_int  145 non-null    int8 \n",
      " 27  mainhue_int   145 non-null    int8 \n",
      "dtypes: int64(25), int8(3)\n",
      "memory usage: 29.9 KB\n",
      "None\n"
     ]
    }
   ],
   "source": [
    "dataset = data.drop(columns = ['name', 'religion'])\n",
    "\n",
    "print(dataset.topleft.unique())\n",
    "\n",
    "dataset['topleft'] = pd.Categorical(dataset.topleft, categories = dataset.topleft.unique(), ordered = False)\n",
    "dataset['botright'] = pd.Categorical(dataset.botright, categories = dataset.botright.unique(), ordered = False)\n",
    "dataset['mainhue'] = pd.Categorical(dataset.mainhue, categories = dataset.mainhue.unique(), ordered = False)\n",
    "\n",
    "dataset['topleft_int'] = dataset.topleft.cat.codes\n",
    "dataset['botright_int'] = dataset.botright.cat.codes\n",
    "dataset['mainhue_int'] = dataset.mainhue.cat.codes\n",
    "\n",
    "dataset = dataset.drop(columns = ['topleft', 'botright', 'mainhue'])\n",
    "\n",
    "labels = data.religion\n",
    "\n",
    "#print(dataset.head())\n",
    "\n",
    "train_data, test_data, train_labels, test_labels = train_test_split(dataset, labels, random_state = 1)\n",
    "\n",
    "print(train_data.info())"
   ]
  },
  {
   "cell_type": "code",
   "execution_count": 60,
   "id": "09377473-a70c-40c4-8b50-24667375de8f",
   "metadata": {
    "tags": []
   },
   "outputs": [
    {
     "name": "stdout",
     "output_type": "stream",
     "text": [
      "0.6326530612244898\n",
      "11\n"
     ]
    }
   ],
   "source": [
    "classifier = DecisionTreeClassifier(random_state = 1)\n",
    "\n",
    "classifier.fit(train_data, train_labels)\n",
    "print(classifier.score(test_data, test_labels))\n",
    "\n",
    "print(classifier.tree_.max_depth)"
   ]
  },
  {
   "cell_type": "code",
   "execution_count": 65,
   "id": "34b15306-80b6-4f11-9bdf-6a26364c57d7",
   "metadata": {
    "tags": []
   },
   "outputs": [
    {
     "data": {
      "image/png": "[encoded data removed]",
      "text/plain": [
       "<Figure size 640x480 with 1 Axes>"
      ]
     },
     "metadata": {},
     "output_type": "display_data"
    },
    {
     "name": "stdout",
     "output_type": "stream",
     "text": [
      "0.673469387755102\n"
     ]
    }
   ],
   "source": [
    "score = []\n",
    "\n",
    "for i in range(1, 20):\n",
    "    classifier = DecisionTreeClassifier(random_state = 1, max_depth=i)\n",
    "\n",
    "    classifier.fit(train_data, train_labels)\n",
    "    score.append(classifier.score(test_data, test_labels))\n",
    "\n",
    "\n",
    "plt.plot(range(1,20), score)\n",
    "plt.xticks(range(1,20))\n",
    "plt.show()\n",
    "\n",
    "print(score[2])"
   ]
  }
 ],
 "metadata": {
  "kernelspec": {
   "display_name": "Python 3 (ipykernel)",
   "language": "python",
   "name": "python3"
  },
  "language_info": {
   "codemirror_mode": {
    "name": "ipython",
    "version": 3
   },
   "file_extension": ".py",
   "mimetype": "text/x-python",
   "name": "python",
   "nbconvert_exporter": "python",
   "pygments_lexer": "ipython3",
   "version": "3.11.5"
  }
 },
 "nbformat": 4,
 "nbformat_minor": 5
}
